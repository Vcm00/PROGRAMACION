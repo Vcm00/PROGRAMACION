{
 "cells": [
  {
   "cell_type": "markdown",
   "metadata": {},
   "source": [
    "# MLP Regression Example\n",
    "This notebook shows how to train a simple multilayer perceptron with PyTorch."
   ]
  },
  {
   "cell_type": "code",
   "execution_count": null,
   "metadata": {},
   "outputs": [],
   "source": [
    "import numpy as np\n",
    "import matplotlib.pyplot as plt\n",
    "from sklearn.linear_model import LinearRegression\n",
    "import torch\n",
    "from torch.utils.data import TensorDataset, DataLoader\n",
    "\n",
    "# synthetic data\n",
    "X = np.array([258.0, 270.0, 294.0, 320.0, 342.0, 368.0, 396.0, 446.0, 480.0, 586.0])[:, None]\n",
    "y = np.array([236.4, 234.4, 252.8, 298.6, 314.2, 342.2, 360.8, 368.0, 391.2, 390.8])\n",
    "\n",
    "plt.scatter(X, y)\n",
    "plt.xlabel(\"X\")\n",
    "plt.ylabel(\"y\")\n",
    "plt.show()"
   ]
  },
  {
   "cell_type": "code",
   "execution_count": null,
   "metadata": {},
   "outputs": [],
   "source": [
    "lr = LinearRegression()\n",
    "lr.fit(X, y)\n",
    "\n",
    "X_range = np.arange(250, 600, 10)[:, None]\n",
    "y_linear = lr.predict(X_range)\n",
    "\n",
    "plt.scatter(X, y, label=\"Datos\")\n",
    "plt.plot(X_range, y_linear, label=\"Regresión lineal\", linestyle=\"--\", color=\"orange\")\n",
    "plt.legend()\n",
    "plt.show()"
   ]
  },
  {
   "cell_type": "code",
   "execution_count": null,
   "metadata": {},
   "outputs": [],
   "source": [
    "# normalize data\n",
    "x_mean, x_std = X.mean(), X.std()\n",
    "y_mean, y_std = y.mean(), y.std()\n",
    "X_norm = (X - x_mean) / x_std\n",
    "y_norm = (y - y_mean) / y_std\n",
    "\n",
    "tensor_X = torch.tensor(X_norm, dtype=torch.float32)\n",
    "tensor_y = torch.tensor(y_norm, dtype=torch.float32)\n",
    "dataset = TensorDataset(tensor_X, tensor_y)\n",
    "dataloader = DataLoader(dataset)\n",
    "\n",
    "class MLP(torch.nn.Module):\n",
    "    def __init__(self):\n",
    "        super().__init__()\n",
    "        self.layers = torch.nn.Sequential(\n",
    "            torch.nn.Linear(1, 1),\n",
    "            torch.nn.ReLU(),\n",
    "            torch.nn.Linear(1, 1)\n",
    "        )\n",
    "    def forward(self, x):\n",
    "        return self.layers(x)\n",
    "\n",
    "model = MLP()\n",
    "loss_fn = torch.nn.MSELoss()\n",
    "optimizer = torch.optim.SGD(model.parameters(), lr=0.1)\n",
    "\n",
    "loss_history = []\n",
    "for epoch in range(200):\n",
    "    for f, t in dataloader:\n",
    "        out = model(f)\n",
    "        loss = loss_fn(out.squeeze(), t)\n",
    "        optimizer.zero_grad()\n",
    "        loss.backward()\n",
    "        optimizer.step()\n",
    "    loss_history.append(loss.item())\n",
    "\n",
    "plt.plot(loss_history)\n",
    "plt.xlabel(\"epoch\")\n",
    "plt.ylabel(\"loss\")\n",
    "plt.show()"
   ]
  },
  {
   "cell_type": "code",
   "execution_count": null,
   "metadata": {},
   "outputs": [],
   "source": [
    "model.eval()\n",
    "X_range_norm = (X_range - x_mean) / x_std\n",
    "X_range_norm = torch.tensor(X_range_norm, dtype=torch.float32)\n",
    "y_mlp_norm = model(X_range_norm).detach().numpy().astype(float)\n",
    "y_mlp = y_mlp_norm * y_std + y_mean\n",
    "\n",
    "plt.scatter(X, y, label=\"Datos\")\n",
    "plt.plot(X_range, y_linear, label=\"Regresión lineal\", linestyle=\"--\", color=\"green\")\n",
    "plt.plot(X_range, y_mlp, label=\"MLP\", color=\"orange\")\n",
    "plt.xlabel(\"X\")\n",
    "plt.ylabel(\"y\")\n",
    "plt.legend()\n",
    "plt.show()"
   ]
  }
 ],
 "metadata": {
  "kernelspec": {
   "display_name": "Python 3",
   "language": "python",
   "name": "python3"
  },
  "language_info": {
   "name": "python"
  }
 },
 "nbformat": 4,
 "nbformat_minor": 4
}
